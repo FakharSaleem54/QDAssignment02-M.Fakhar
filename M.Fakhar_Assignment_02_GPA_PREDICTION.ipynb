{
 "cells": [
  {
   "cell_type": "code",
   "execution_count": 13,
   "id": "7921c81c-26e4-408e-a756-e6d249811872",
   "metadata": {},
   "outputs": [],
   "source": [
    "import pandas as pd\n",
    "import spacy \n",
    "import seaborn as sns\n",
    "import matplotlib.pyplot as plt\n",
    "nlp = spacy.load(\"en_core_web_sm\")"
   ]
  },
  {
   "cell_type": "code",
   "execution_count": 4,
   "id": "2e59cbca",
   "metadata": {},
   "outputs": [
    {
     "name": "stdout",
     "output_type": "stream",
     "text": [
      "                                                text airline_sentiment\n",
      "0                @VirginAmerica What @dhepburn said.           neutral\n",
      "1  @VirginAmerica plus you've added commercials t...          positive\n",
      "2  @VirginAmerica I didn't today... Must mean I n...           neutral\n",
      "3  @VirginAmerica it's really aggressive to blast...          negative\n",
      "4  @VirginAmerica and it's a really big bad thing...          negative\n"
     ]
    }
   ],
   "source": [
    "df = pd.read_csv(\"Tweets.csv\") \n",
    "print(df[['text', 'airline_sentiment']].head())"
   ]
  },
  {
   "cell_type": "markdown",
   "id": "d90f48b1",
   "metadata": {},
   "source": [
    "Loading up the relevant libraries."
   ]
  },
  {
   "cell_type": "code",
   "execution_count": 7,
   "id": "1dae9442",
   "metadata": {},
   "outputs": [],
   "source": [
    "from spacy.lang.en.stop_words import STOP_WORDS\n",
    "nlp = spacy.load('en_core_web_sm')\n",
    "\n",
    "def preprocess(text):\n",
    "    doc = nlp(text.lower())  \n",
    "    tokens = [token.lemma_ for token in doc if token.is_alpha and token.text not in STOP_WORDS]\n",
    "    return \" \".join(tokens)\n",
    "\n",
    "df['clean_text'] = df['text'].apply(preprocess)"
   ]
  },
  {
   "cell_type": "code",
   "execution_count": 10,
   "id": "811416ab",
   "metadata": {},
   "outputs": [],
   "source": [
    "import re\n",
    "from textblob import TextBlob\n",
    "from sklearn.feature_extraction.text import TfidfVectorizer"
   ]
  },
  {
   "cell_type": "code",
   "execution_count": 11,
   "id": "88d1175b",
   "metadata": {},
   "outputs": [],
   "source": [
    "df['word_count'] = df['clean_text'].apply(lambda x: len(x.split()))\n",
    "df['char_count'] = df['clean_text'].apply(len)\n",
    "df['avg_word_len'] = df['char_count'] / (df['word_count'] + 1)\n",
    "df['exclam_count'] = df['text'].apply(lambda x: x.count('!'))\n",
    "df['question_count'] = df['text'].apply(lambda x: x.count('?'))\n",
    "df['hashtag_count'] = df['text'].apply(lambda x: x.count('#'))\n",
    "df['mention_count'] = df['text'].apply(lambda x: x.count('@'))\n",
    "df['polarity'] = df['clean_text'].apply(lambda x: TextBlob(x).sentiment.polarity)"
   ]
  },
  {
   "cell_type": "code",
   "execution_count": 12,
   "id": "565f0fde",
   "metadata": {},
   "outputs": [],
   "source": [
    "tfidf = TfidfVectorizer(max_features=1000)\n",
    "tfidf_matrix = tfidf.fit_transform(df['clean_text'])"
   ]
  },
  {
   "cell_type": "code",
   "execution_count": 14,
   "id": "8990bf20",
   "metadata": {},
   "outputs": [
    {
     "data": {
      "image/png": "[encoded data removed]",
      "text/plain": [
       "<Figure size 640x480 with 1 Axes>"
      ]
     },
     "metadata": {},
     "output_type": "display_data"
    }
   ],
   "source": [
    "sns.countplot(data=df, x='airline_sentiment')\n",
    "plt.show()"
   ]
  }
 ],
 "metadata": {
  "kernelspec": {
   "display_name": "spacy-env",
   "language": "python",
   "name": "python3"
  },
  "language_info": {
   "codemirror_mode": {
    "name": "ipython",
    "version": 3
   },
   "file_extension": ".py",
   "mimetype": "text/x-python",
   "name": "python",
   "nbconvert_exporter": "python",
   "pygments_lexer": "ipython3",
   "version": "3.10.18"
  }
 },
 "nbformat": 4,
 "nbformat_minor": 5
}
